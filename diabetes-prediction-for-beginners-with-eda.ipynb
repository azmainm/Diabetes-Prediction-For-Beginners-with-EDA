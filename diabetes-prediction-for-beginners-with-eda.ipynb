{
 "cells": [
  {
   "cell_type": "markdown",
   "id": "6f6eedb5",
   "metadata": {
    "papermill": {
     "duration": 0.033013,
     "end_time": "2021-09-27T09:00:10.473901",
     "exception": false,
     "start_time": "2021-09-27T09:00:10.440888",
     "status": "completed"
    },
    "tags": []
   },
   "source": [
    "# Introduction"
   ]
  },
  {
   "cell_type": "markdown",
   "id": "c6e529ac",
   "metadata": {
    "papermill": {
     "duration": 0.030765,
     "end_time": "2021-09-27T09:00:10.536785",
     "exception": false,
     "start_time": "2021-09-27T09:00:10.506020",
     "status": "completed"
    },
    "tags": []
   },
   "source": [
    "**This notebook is a guide for beginners into machine learning, classification to be more specific. There will be comments every step of the way so there is a clear understanding. We will be building a system that predicts whether a woman has  diabetes or not given a set of information about that woman.**"
   ]
  },
  {
   "cell_type": "markdown",
   "id": "c3ee425d",
   "metadata": {
    "papermill": {
     "duration": 0.031559,
     "end_time": "2021-09-27T09:00:10.603500",
     "exception": false,
     "start_time": "2021-09-27T09:00:10.571941",
     "status": "completed"
    },
    "tags": []
   },
   "source": [
    "# Supervised vs Unsupervised Machine Learning"
   ]
  },
  {
   "cell_type": "markdown",
   "id": "fb8f7436",
   "metadata": {
    "papermill": {
     "duration": 0.031563,
     "end_time": "2021-09-27T09:00:10.668138",
     "exception": false,
     "start_time": "2021-09-27T09:00:10.636575",
     "status": "completed"
    },
    "tags": []
   },
   "source": [
    "**Machine learning is divided into supervised and unsupervised learning. We train our model with data that we have previously acquired in supervised learning. In unsupervised learning, we have no data that we can train our model with.**\n",
    "\n",
    "**Supervised machine learning is divided into classification and regression. In classification, we predict discrete values, e.g. Yes/No, Customer will purchase/Won't purchase. But in regression, we predict continuous values, such as age, price, etc.**"
   ]
  },
  {
   "cell_type": "markdown",
   "id": "7cf05b0d",
   "metadata": {
    "papermill": {
     "duration": 0.031688,
     "end_time": "2021-09-27T09:00:10.730971",
     "exception": false,
     "start_time": "2021-09-27T09:00:10.699283",
     "status": "completed"
    },
    "tags": []
   },
   "source": [
    "# Importing Libraries and dataset"
   ]
  },
  {
   "cell_type": "code",
   "execution_count": 1,
   "id": "98a3bced",
   "metadata": {
    "_cell_guid": "b1076dfc-b9ad-4769-8c92-a6c4dae69d19",
    "_uuid": "8f2839f25d086af736a60e9eeb907d3b93b6e0e5",
    "execution": {
     "iopub.execute_input": "2021-09-27T09:00:10.799213Z",
     "iopub.status.busy": "2021-09-27T09:00:10.797420Z",
     "iopub.status.idle": "2021-09-27T09:00:11.889348Z",
     "shell.execute_reply": "2021-09-27T09:00:11.888628Z",
     "shell.execute_reply.started": "2021-09-27T08:38:42.626722Z"
    },
    "papermill": {
     "duration": 1.127551,
     "end_time": "2021-09-27T09:00:11.889526",
     "exception": false,
     "start_time": "2021-09-27T09:00:10.761975",
     "status": "completed"
    },
    "tags": []
   },
   "outputs": [],
   "source": [
    "import numpy as np\n",
    "import pandas as pd\n",
    "import matplotlib.pyplot as plt\n",
    "import seaborn as sns\n",
    "from sklearn.model_selection import train_test_split\n",
    "from sklearn import svm\n",
    "from sklearn.metrics import accuracy_score\n",
    "from sklearn.preprocessing import StandardScaler"
   ]
  },
  {
   "cell_type": "code",
   "execution_count": 2,
   "id": "8996d340",
   "metadata": {
    "execution": {
     "iopub.execute_input": "2021-09-27T09:00:11.959369Z",
     "iopub.status.busy": "2021-09-27T09:00:11.958664Z",
     "iopub.status.idle": "2021-09-27T09:00:11.996026Z",
     "shell.execute_reply": "2021-09-27T09:00:11.996577Z",
     "shell.execute_reply.started": "2021-09-27T08:38:42.634873Z"
    },
    "papermill": {
     "duration": 0.074575,
     "end_time": "2021-09-27T09:00:11.996752",
     "exception": false,
     "start_time": "2021-09-27T09:00:11.922177",
     "status": "completed"
    },
    "tags": []
   },
   "outputs": [
    {
     "data": {
      "text/html": [
       "<div>\n",
       "<style scoped>\n",
       "    .dataframe tbody tr th:only-of-type {\n",
       "        vertical-align: middle;\n",
       "    }\n",
       "\n",
       "    .dataframe tbody tr th {\n",
       "        vertical-align: top;\n",
       "    }\n",
       "\n",
       "    .dataframe thead th {\n",
       "        text-align: right;\n",
       "    }\n",
       "</style>\n",
       "<table border=\"1\" class=\"dataframe\">\n",
       "  <thead>\n",
       "    <tr style=\"text-align: right;\">\n",
       "      <th></th>\n",
       "      <th>Pregnancies</th>\n",
       "      <th>Glucose</th>\n",
       "      <th>BloodPressure</th>\n",
       "      <th>SkinThickness</th>\n",
       "      <th>Insulin</th>\n",
       "      <th>BMI</th>\n",
       "      <th>DiabetesPedigreeFunction</th>\n",
       "      <th>Age</th>\n",
       "      <th>Outcome</th>\n",
       "    </tr>\n",
       "  </thead>\n",
       "  <tbody>\n",
       "    <tr>\n",
       "      <th>0</th>\n",
       "      <td>6</td>\n",
       "      <td>148</td>\n",
       "      <td>72</td>\n",
       "      <td>35</td>\n",
       "      <td>0</td>\n",
       "      <td>33.6</td>\n",
       "      <td>0.627</td>\n",
       "      <td>50</td>\n",
       "      <td>1</td>\n",
       "    </tr>\n",
       "    <tr>\n",
       "      <th>1</th>\n",
       "      <td>1</td>\n",
       "      <td>85</td>\n",
       "      <td>66</td>\n",
       "      <td>29</td>\n",
       "      <td>0</td>\n",
       "      <td>26.6</td>\n",
       "      <td>0.351</td>\n",
       "      <td>31</td>\n",
       "      <td>0</td>\n",
       "    </tr>\n",
       "    <tr>\n",
       "      <th>2</th>\n",
       "      <td>8</td>\n",
       "      <td>183</td>\n",
       "      <td>64</td>\n",
       "      <td>0</td>\n",
       "      <td>0</td>\n",
       "      <td>23.3</td>\n",
       "      <td>0.672</td>\n",
       "      <td>32</td>\n",
       "      <td>1</td>\n",
       "    </tr>\n",
       "    <tr>\n",
       "      <th>3</th>\n",
       "      <td>1</td>\n",
       "      <td>89</td>\n",
       "      <td>66</td>\n",
       "      <td>23</td>\n",
       "      <td>94</td>\n",
       "      <td>28.1</td>\n",
       "      <td>0.167</td>\n",
       "      <td>21</td>\n",
       "      <td>0</td>\n",
       "    </tr>\n",
       "    <tr>\n",
       "      <th>4</th>\n",
       "      <td>0</td>\n",
       "      <td>137</td>\n",
       "      <td>40</td>\n",
       "      <td>35</td>\n",
       "      <td>168</td>\n",
       "      <td>43.1</td>\n",
       "      <td>2.288</td>\n",
       "      <td>33</td>\n",
       "      <td>1</td>\n",
       "    </tr>\n",
       "  </tbody>\n",
       "</table>\n",
       "</div>"
      ],
      "text/plain": [
       "   Pregnancies  Glucose  BloodPressure  SkinThickness  Insulin   BMI  \\\n",
       "0            6      148             72             35        0  33.6   \n",
       "1            1       85             66             29        0  26.6   \n",
       "2            8      183             64              0        0  23.3   \n",
       "3            1       89             66             23       94  28.1   \n",
       "4            0      137             40             35      168  43.1   \n",
       "\n",
       "   DiabetesPedigreeFunction  Age  Outcome  \n",
       "0                     0.627   50        1  \n",
       "1                     0.351   31        0  \n",
       "2                     0.672   32        1  \n",
       "3                     0.167   21        0  \n",
       "4                     2.288   33        1  "
      ]
     },
     "execution_count": 2,
     "metadata": {},
     "output_type": "execute_result"
    }
   ],
   "source": [
    "df = pd.read_csv('../input/pima-indians-diabetes-database/diabetes.csv')\n",
    "df.head()"
   ]
  },
  {
   "cell_type": "markdown",
   "id": "2f8511f7",
   "metadata": {
    "papermill": {
     "duration": 0.03234,
     "end_time": "2021-09-27T09:00:12.061776",
     "exception": false,
     "start_time": "2021-09-27T09:00:12.029436",
     "status": "completed"
    },
    "tags": []
   },
   "source": [
    "**All patients here are females at least 21 years old.**"
   ]
  },
  {
   "cell_type": "code",
   "execution_count": 3,
   "id": "f1738ced",
   "metadata": {
    "execution": {
     "iopub.execute_input": "2021-09-27T09:00:12.138144Z",
     "iopub.status.busy": "2021-09-27T09:00:12.137403Z",
     "iopub.status.idle": "2021-09-27T09:00:12.145291Z",
     "shell.execute_reply": "2021-09-27T09:00:12.144735Z",
     "shell.execute_reply.started": "2021-09-27T08:38:42.665707Z"
    },
    "papermill": {
     "duration": 0.051772,
     "end_time": "2021-09-27T09:00:12.145436",
     "exception": false,
     "start_time": "2021-09-27T09:00:12.093664",
     "status": "completed"
    },
    "tags": []
   },
   "outputs": [
    {
     "data": {
      "text/html": [
       "<div>\n",
       "<style scoped>\n",
       "    .dataframe tbody tr th:only-of-type {\n",
       "        vertical-align: middle;\n",
       "    }\n",
       "\n",
       "    .dataframe tbody tr th {\n",
       "        vertical-align: top;\n",
       "    }\n",
       "\n",
       "    .dataframe thead th {\n",
       "        text-align: right;\n",
       "    }\n",
       "</style>\n",
       "<table border=\"1\" class=\"dataframe\">\n",
       "  <thead>\n",
       "    <tr style=\"text-align: right;\">\n",
       "      <th></th>\n",
       "      <th>Pregnancies</th>\n",
       "      <th>Glucose</th>\n",
       "      <th>BloodPressure</th>\n",
       "      <th>SkinThickness</th>\n",
       "      <th>Insulin</th>\n",
       "      <th>BMI</th>\n",
       "      <th>DiabetesPedigreeFunction</th>\n",
       "      <th>Age</th>\n",
       "      <th>Result</th>\n",
       "    </tr>\n",
       "  </thead>\n",
       "  <tbody>\n",
       "    <tr>\n",
       "      <th>0</th>\n",
       "      <td>6</td>\n",
       "      <td>148</td>\n",
       "      <td>72</td>\n",
       "      <td>35</td>\n",
       "      <td>0</td>\n",
       "      <td>33.6</td>\n",
       "      <td>0.627</td>\n",
       "      <td>50</td>\n",
       "      <td>1</td>\n",
       "    </tr>\n",
       "    <tr>\n",
       "      <th>1</th>\n",
       "      <td>1</td>\n",
       "      <td>85</td>\n",
       "      <td>66</td>\n",
       "      <td>29</td>\n",
       "      <td>0</td>\n",
       "      <td>26.6</td>\n",
       "      <td>0.351</td>\n",
       "      <td>31</td>\n",
       "      <td>0</td>\n",
       "    </tr>\n",
       "    <tr>\n",
       "      <th>2</th>\n",
       "      <td>8</td>\n",
       "      <td>183</td>\n",
       "      <td>64</td>\n",
       "      <td>0</td>\n",
       "      <td>0</td>\n",
       "      <td>23.3</td>\n",
       "      <td>0.672</td>\n",
       "      <td>32</td>\n",
       "      <td>1</td>\n",
       "    </tr>\n",
       "    <tr>\n",
       "      <th>3</th>\n",
       "      <td>1</td>\n",
       "      <td>89</td>\n",
       "      <td>66</td>\n",
       "      <td>23</td>\n",
       "      <td>94</td>\n",
       "      <td>28.1</td>\n",
       "      <td>0.167</td>\n",
       "      <td>21</td>\n",
       "      <td>0</td>\n",
       "    </tr>\n",
       "    <tr>\n",
       "      <th>4</th>\n",
       "      <td>0</td>\n",
       "      <td>137</td>\n",
       "      <td>40</td>\n",
       "      <td>35</td>\n",
       "      <td>168</td>\n",
       "      <td>43.1</td>\n",
       "      <td>2.288</td>\n",
       "      <td>33</td>\n",
       "      <td>1</td>\n",
       "    </tr>\n",
       "  </tbody>\n",
       "</table>\n",
       "</div>"
      ],
      "text/plain": [
       "   Pregnancies  Glucose  BloodPressure  SkinThickness  Insulin   BMI  \\\n",
       "0            6      148             72             35        0  33.6   \n",
       "1            1       85             66             29        0  26.6   \n",
       "2            8      183             64              0        0  23.3   \n",
       "3            1       89             66             23       94  28.1   \n",
       "4            0      137             40             35      168  43.1   \n",
       "\n",
       "   DiabetesPedigreeFunction  Age  Result  \n",
       "0                     0.627   50       1  \n",
       "1                     0.351   31       0  \n",
       "2                     0.672   32       1  \n",
       "3                     0.167   21       0  \n",
       "4                     2.288   33       1  "
      ]
     },
     "execution_count": 3,
     "metadata": {},
     "output_type": "execute_result"
    }
   ],
   "source": [
    "# Outcome column is the dependent variable (basically telling us if the person has diabetes or not). I'll rename it to 'result'.\n",
    "df = df.rename(columns={'Outcome':'Result'})\n",
    "df.head()"
   ]
  },
  {
   "cell_type": "markdown",
   "id": "bcd875cc",
   "metadata": {
    "papermill": {
     "duration": 0.034178,
     "end_time": "2021-09-27T09:00:12.213623",
     "exception": false,
     "start_time": "2021-09-27T09:00:12.179445",
     "status": "completed"
    },
    "tags": []
   },
   "source": [
    "# Missing Values"
   ]
  },
  {
   "cell_type": "code",
   "execution_count": 4,
   "id": "a48847a5",
   "metadata": {
    "execution": {
     "iopub.execute_input": "2021-09-27T09:00:12.282065Z",
     "iopub.status.busy": "2021-09-27T09:00:12.281423Z",
     "iopub.status.idle": "2021-09-27T09:00:12.301215Z",
     "shell.execute_reply": "2021-09-27T09:00:12.301888Z",
     "shell.execute_reply.started": "2021-09-27T08:38:42.682299Z"
    },
    "papermill": {
     "duration": 0.056141,
     "end_time": "2021-09-27T09:00:12.302144",
     "exception": false,
     "start_time": "2021-09-27T09:00:12.246003",
     "status": "completed"
    },
    "tags": []
   },
   "outputs": [
    {
     "name": "stdout",
     "output_type": "stream",
     "text": [
      "<class 'pandas.core.frame.DataFrame'>\n",
      "RangeIndex: 768 entries, 0 to 767\n",
      "Data columns (total 9 columns):\n",
      " #   Column                    Non-Null Count  Dtype  \n",
      "---  ------                    --------------  -----  \n",
      " 0   Pregnancies               768 non-null    int64  \n",
      " 1   Glucose                   768 non-null    int64  \n",
      " 2   BloodPressure             768 non-null    int64  \n",
      " 3   SkinThickness             768 non-null    int64  \n",
      " 4   Insulin                   768 non-null    int64  \n",
      " 5   BMI                       768 non-null    float64\n",
      " 6   DiabetesPedigreeFunction  768 non-null    float64\n",
      " 7   Age                       768 non-null    int64  \n",
      " 8   Result                    768 non-null    int64  \n",
      "dtypes: float64(2), int64(7)\n",
      "memory usage: 54.1 KB\n"
     ]
    }
   ],
   "source": [
    "df.info()"
   ]
  },
  {
   "cell_type": "markdown",
   "id": "05465c94",
   "metadata": {
    "papermill": {
     "duration": 0.032142,
     "end_time": "2021-09-27T09:00:12.367686",
     "exception": false,
     "start_time": "2021-09-27T09:00:12.335544",
     "status": "completed"
    },
    "tags": []
   },
   "source": [
    "**Good thing we have no missing values in this dataset so no imputation (replacing missing values with other appropriate ones) necessary.**"
   ]
  },
  {
   "cell_type": "markdown",
   "id": "41a311f3",
   "metadata": {
    "papermill": {
     "duration": 0.032548,
     "end_time": "2021-09-27T09:00:12.432508",
     "exception": false,
     "start_time": "2021-09-27T09:00:12.399960",
     "status": "completed"
    },
    "tags": []
   },
   "source": [
    "# Exploratory Data Analysis"
   ]
  },
  {
   "cell_type": "code",
   "execution_count": 5,
   "id": "06540fb8",
   "metadata": {
    "execution": {
     "iopub.execute_input": "2021-09-27T09:00:12.506040Z",
     "iopub.status.busy": "2021-09-27T09:00:12.505380Z",
     "iopub.status.idle": "2021-09-27T09:00:13.300733Z",
     "shell.execute_reply": "2021-09-27T09:00:13.301253Z",
     "shell.execute_reply.started": "2021-09-27T08:38:42.704501Z"
    },
    "papermill": {
     "duration": 0.836532,
     "end_time": "2021-09-27T09:00:13.301428",
     "exception": false,
     "start_time": "2021-09-27T09:00:12.464896",
     "status": "completed"
    },
    "tags": []
   },
   "outputs": [
    {
     "data": {
      "text/plain": [
       "<AxesSubplot:>"
      ]
     },
     "execution_count": 5,
     "metadata": {},
     "output_type": "execute_result"
    },
    {
     "data": {
      "image/png": "[encoded data removed]",
      "text/plain": [
       "<Figure size 576x576 with 2 Axes>"
      ]
     },
     "metadata": {
      "needs_background": "light"
     },
     "output_type": "display_data"
    }
   ],
   "source": [
    "# We can use a heatmap to check correlation between the variables.\n",
    "corr = df.corr()\n",
    "plt.figure(figsize=(8,8))\n",
    "sns.heatmap(corr,cbar=True,square=True,fmt='.1f',annot=True,cmap='Reds')"
   ]
  },
  {
   "cell_type": "markdown",
   "id": "a44a2ee5",
   "metadata": {
    "papermill": {
     "duration": 0.034339,
     "end_time": "2021-09-27T09:00:13.370681",
     "exception": false,
     "start_time": "2021-09-27T09:00:13.336342",
     "status": "completed"
    },
    "tags": []
   },
   "source": [
    "**We can make observations such as, as glucose increases, the likelihood of having diabetes increases.**"
   ]
  },
  {
   "cell_type": "code",
   "execution_count": 6,
   "id": "d939275c",
   "metadata": {
    "execution": {
     "iopub.execute_input": "2021-09-27T09:00:13.447473Z",
     "iopub.status.busy": "2021-09-27T09:00:13.446677Z",
     "iopub.status.idle": "2021-09-27T09:00:13.449441Z",
     "shell.execute_reply": "2021-09-27T09:00:13.449941Z",
     "shell.execute_reply.started": "2021-09-27T08:59:05.471685Z"
    },
    "papermill": {
     "duration": 0.044815,
     "end_time": "2021-09-27T09:00:13.450129",
     "exception": false,
     "start_time": "2021-09-27T09:00:13.405314",
     "status": "completed"
    },
    "tags": []
   },
   "outputs": [
    {
     "data": {
      "text/plain": [
       "0    500\n",
       "1    268\n",
       "Name: Result, dtype: int64"
      ]
     },
     "execution_count": 6,
     "metadata": {},
     "output_type": "execute_result"
    }
   ],
   "source": [
    "# Checking how many samples we have for non-diabetics and for diabetics\n",
    "df['Result'].value_counts()"
   ]
  },
  {
   "cell_type": "code",
   "execution_count": 7,
   "id": "88824379",
   "metadata": {
    "execution": {
     "iopub.execute_input": "2021-09-27T09:00:13.524040Z",
     "iopub.status.busy": "2021-09-27T09:00:13.523393Z",
     "iopub.status.idle": "2021-09-27T09:00:13.820701Z",
     "shell.execute_reply": "2021-09-27T09:00:13.820160Z",
     "shell.execute_reply.started": "2021-09-27T08:38:43.852977Z"
    },
    "papermill": {
     "duration": 0.335418,
     "end_time": "2021-09-27T09:00:13.820851",
     "exception": false,
     "start_time": "2021-09-27T09:00:13.485433",
     "status": "completed"
    },
    "tags": []
   },
   "outputs": [
    {
     "data": {
      "text/plain": [
       "<AxesSubplot:xlabel='Result', ylabel='count'>"
      ]
     },
     "execution_count": 7,
     "metadata": {},
     "output_type": "execute_result"
    },
    {
     "data": {
      "image/png": "[encoded data removed]",
      "text/plain": [
       "<Figure size 720x720 with 1 Axes>"
      ]
     },
     "metadata": {
      "needs_background": "light"
     },
     "output_type": "display_data"
    }
   ],
   "source": [
    "plt.figure(figsize=(10,10))\n",
    "sns.countplot(x=\"Result\", data=df)"
   ]
  },
  {
   "cell_type": "markdown",
   "id": "535bf2b3",
   "metadata": {
    "papermill": {
     "duration": 0.03554,
     "end_time": "2021-09-27T09:00:13.893751",
     "exception": false,
     "start_time": "2021-09-27T09:00:13.858211",
     "status": "completed"
    },
    "tags": []
   },
   "source": [
    "**We have more non-diabetic samples than diabetics. Also, we only have 786 samples total which is very less. Predictions would be more reliable if we had more data.**"
   ]
  },
  {
   "cell_type": "code",
   "execution_count": 8,
   "id": "f2513a7e",
   "metadata": {
    "execution": {
     "iopub.execute_input": "2021-09-27T09:00:13.980311Z",
     "iopub.status.busy": "2021-09-27T09:00:13.979579Z",
     "iopub.status.idle": "2021-09-27T09:00:18.740540Z",
     "shell.execute_reply": "2021-09-27T09:00:18.739944Z",
     "shell.execute_reply.started": "2021-09-27T08:38:44.049691Z"
    },
    "papermill": {
     "duration": 4.810361,
     "end_time": "2021-09-27T09:00:18.740684",
     "exception": false,
     "start_time": "2021-09-27T09:00:13.930323",
     "status": "completed"
    },
    "tags": []
   },
   "outputs": [
    {
     "data": {
      "image/png": "[encoded data removed]",
      "text/plain": [
       "<Figure size 1440x720 with 1 Axes>"
      ]
     },
     "metadata": {
      "needs_background": "light"
     },
     "output_type": "display_data"
    }
   ],
   "source": [
    "# Age vs Insulin\n",
    "x = []\n",
    "for age in df.Age:\n",
    "    x.append(age)\n",
    "y = df.Insulin\n",
    "plt.figure(figsize=(20,10))\n",
    "plt.bar(x,y)\n",
    "#for index, value in enumerate(y):\n",
    " #   plt.text(index, value, str(value),color='blue',size=10,fontweight='bold')\n",
    "plt.xlabel(\"Age\",size=10)\n",
    "plt.ylabel(\"Insulin\")\n",
    "plt.xticks(x)\n",
    "plt.title(\"Relationship between Age and Insulin levels\")\n",
    "plt.show()\n",
    "plt.show()"
   ]
  },
  {
   "cell_type": "markdown",
   "id": "fa9d638b",
   "metadata": {
    "papermill": {
     "duration": 0.037414,
     "end_time": "2021-09-27T09:00:18.815192",
     "exception": false,
     "start_time": "2021-09-27T09:00:18.777778",
     "status": "completed"
    },
    "tags": []
   },
   "source": [
    "**We can see that 59 year olds have highest insulin levels but there is no real trend visible. Insulin levels keep varying, but maybe if we had more samples, a trend could be more obvious**"
   ]
  },
  {
   "cell_type": "code",
   "execution_count": 9,
   "id": "9899609f",
   "metadata": {
    "execution": {
     "iopub.execute_input": "2021-09-27T09:00:18.926953Z",
     "iopub.status.busy": "2021-09-27T09:00:18.926286Z",
     "iopub.status.idle": "2021-09-27T09:00:24.496873Z",
     "shell.execute_reply": "2021-09-27T09:00:24.497390Z",
     "shell.execute_reply.started": "2021-09-27T08:38:48.860499Z"
    },
    "papermill": {
     "duration": 5.645328,
     "end_time": "2021-09-27T09:00:24.497560",
     "exception": false,
     "start_time": "2021-09-27T09:00:18.852232",
     "status": "completed"
    },
    "tags": []
   },
   "outputs": [
    {
     "data": {
      "image/png": "[encoded data removed]",
      "text/plain": [
       "<Figure size 1440x720 with 1 Axes>"
      ]
     },
     "metadata": {
      "needs_background": "light"
     },
     "output_type": "display_data"
    }
   ],
   "source": [
    "# Age vs Glucose\n",
    "x = []\n",
    "for age in df.Age:\n",
    "    x.append(age)\n",
    "y = df.Glucose\n",
    "plt.figure(figsize=(20,10))\n",
    "plt.bar(x,y)\n",
    "plt.xlabel(\"Age\",size=10)\n",
    "plt.ylabel(\"Glucose\")\n",
    "plt.xticks(x)\n",
    "plt.grid()\n",
    "plt.title(\"Relationship between Age and Glucose levels\")\n",
    "plt.show()"
   ]
  },
  {
   "cell_type": "markdown",
   "id": "de50e3a2",
   "metadata": {
    "papermill": {
     "duration": 0.040981,
     "end_time": "2021-09-27T09:00:24.576698",
     "exception": false,
     "start_time": "2021-09-27T09:00:24.535717",
     "status": "completed"
    },
    "tags": []
   },
   "source": [
    "**Again, no real trend found. But, interestingly 22 year olds have the highest glucose in their blood and 68 year olds have the least.**"
   ]
  },
  {
   "cell_type": "code",
   "execution_count": 10,
   "id": "3faf2c19",
   "metadata": {
    "execution": {
     "iopub.execute_input": "2021-09-27T09:00:24.673994Z",
     "iopub.status.busy": "2021-09-27T09:00:24.673337Z",
     "iopub.status.idle": "2021-09-27T09:00:24.691233Z",
     "shell.execute_reply": "2021-09-27T09:00:24.691730Z",
     "shell.execute_reply.started": "2021-09-27T08:38:54.490443Z"
    },
    "papermill": {
     "duration": 0.068239,
     "end_time": "2021-09-27T09:00:24.691899",
     "exception": false,
     "start_time": "2021-09-27T09:00:24.623660",
     "status": "completed"
    },
    "tags": []
   },
   "outputs": [
    {
     "data": {
      "text/html": [
       "<div>\n",
       "<style scoped>\n",
       "    .dataframe tbody tr th:only-of-type {\n",
       "        vertical-align: middle;\n",
       "    }\n",
       "\n",
       "    .dataframe tbody tr th {\n",
       "        vertical-align: top;\n",
       "    }\n",
       "\n",
       "    .dataframe thead th {\n",
       "        text-align: right;\n",
       "    }\n",
       "</style>\n",
       "<table border=\"1\" class=\"dataframe\">\n",
       "  <thead>\n",
       "    <tr style=\"text-align: right;\">\n",
       "      <th></th>\n",
       "      <th>Pregnancies</th>\n",
       "      <th>Glucose</th>\n",
       "      <th>BloodPressure</th>\n",
       "      <th>SkinThickness</th>\n",
       "      <th>Insulin</th>\n",
       "      <th>BMI</th>\n",
       "      <th>DiabetesPedigreeFunction</th>\n",
       "      <th>Age</th>\n",
       "    </tr>\n",
       "    <tr>\n",
       "      <th>Result</th>\n",
       "      <th></th>\n",
       "      <th></th>\n",
       "      <th></th>\n",
       "      <th></th>\n",
       "      <th></th>\n",
       "      <th></th>\n",
       "      <th></th>\n",
       "      <th></th>\n",
       "    </tr>\n",
       "  </thead>\n",
       "  <tbody>\n",
       "    <tr>\n",
       "      <th>0</th>\n",
       "      <td>3.298000</td>\n",
       "      <td>109.980000</td>\n",
       "      <td>68.184000</td>\n",
       "      <td>19.664000</td>\n",
       "      <td>68.792000</td>\n",
       "      <td>30.304200</td>\n",
       "      <td>0.429734</td>\n",
       "      <td>31.190000</td>\n",
       "    </tr>\n",
       "    <tr>\n",
       "      <th>1</th>\n",
       "      <td>4.865672</td>\n",
       "      <td>141.257463</td>\n",
       "      <td>70.824627</td>\n",
       "      <td>22.164179</td>\n",
       "      <td>100.335821</td>\n",
       "      <td>35.142537</td>\n",
       "      <td>0.550500</td>\n",
       "      <td>37.067164</td>\n",
       "    </tr>\n",
       "  </tbody>\n",
       "</table>\n",
       "</div>"
      ],
      "text/plain": [
       "        Pregnancies     Glucose  BloodPressure  SkinThickness     Insulin  \\\n",
       "Result                                                                      \n",
       "0          3.298000  109.980000      68.184000      19.664000   68.792000   \n",
       "1          4.865672  141.257463      70.824627      22.164179  100.335821   \n",
       "\n",
       "              BMI  DiabetesPedigreeFunction        Age  \n",
       "Result                                                  \n",
       "0       30.304200                  0.429734  31.190000  \n",
       "1       35.142537                  0.550500  37.067164  "
      ]
     },
     "execution_count": 10,
     "metadata": {},
     "output_type": "execute_result"
    }
   ],
   "source": [
    "# We'll check mean values of the dependent variables for diabetics and non-diabetics\n",
    "df.groupby('Result').mean()"
   ]
  },
  {
   "cell_type": "markdown",
   "id": "0b5d55ca",
   "metadata": {
    "papermill": {
     "duration": 0.038258,
     "end_time": "2021-09-27T09:00:24.769058",
     "exception": false,
     "start_time": "2021-09-27T09:00:24.730800",
     "status": "completed"
    },
    "tags": []
   },
   "source": [
    "**From here, we can make deductions such as:**\n",
    "* Women with more pregnancies tend to be more diabetic. \n",
    "* Non-diabetics tend to have lower glucose levels.\n",
    "* Non-diabetics tend to have lower blood pressure.\n",
    "* Diabetics have higher insulin levels.\n",
    "* Diabetics weigh more than non-diabetics.\n",
    "* Diabetics are older than non-diabetics on an average."
   ]
  },
  {
   "cell_type": "markdown",
   "id": "9c48e37c",
   "metadata": {
    "papermill": {
     "duration": 0.037973,
     "end_time": "2021-09-27T09:00:24.845220",
     "exception": false,
     "start_time": "2021-09-27T09:00:24.807247",
     "status": "completed"
    },
    "tags": []
   },
   "source": [
    "# Splitting Data"
   ]
  },
  {
   "cell_type": "code",
   "execution_count": 11,
   "id": "d2156792",
   "metadata": {
    "execution": {
     "iopub.execute_input": "2021-09-27T09:00:24.926263Z",
     "iopub.status.busy": "2021-09-27T09:00:24.925513Z",
     "iopub.status.idle": "2021-09-27T09:00:24.930522Z",
     "shell.execute_reply": "2021-09-27T09:00:24.931004Z",
     "shell.execute_reply.started": "2021-09-27T08:38:54.511364Z"
    },
    "papermill": {
     "duration": 0.047054,
     "end_time": "2021-09-27T09:00:24.931209",
     "exception": false,
     "start_time": "2021-09-27T09:00:24.884155",
     "status": "completed"
    },
    "tags": []
   },
   "outputs": [],
   "source": [
    "# We need to split the data\n",
    "X = df.drop(['Result'],axis=1) # We need all the variables (columns) as independent variables so we're just dropping the target column to make things easier.\n",
    "y = df['Result'] # Target."
   ]
  },
  {
   "cell_type": "markdown",
   "id": "cd0b9229",
   "metadata": {
    "papermill": {
     "duration": 0.037882,
     "end_time": "2021-09-27T09:00:25.007522",
     "exception": false,
     "start_time": "2021-09-27T09:00:24.969640",
     "status": "completed"
    },
    "tags": []
   },
   "source": [
    "# Data Standardization"
   ]
  },
  {
   "cell_type": "markdown",
   "id": "bfef10b3",
   "metadata": {
    "papermill": {
     "duration": 0.037917,
     "end_time": "2021-09-27T09:00:25.083796",
     "exception": false,
     "start_time": "2021-09-27T09:00:25.045879",
     "status": "completed"
    },
    "tags": []
   },
   "source": [
    "**All our columns have variable ranges. This could cause some problems for our ML model to make prediction. So, we should standardize the data, bring all of it to a similar range so it's easy for our model to understand the data.**"
   ]
  },
  {
   "cell_type": "code",
   "execution_count": 12,
   "id": "2880d701",
   "metadata": {
    "execution": {
     "iopub.execute_input": "2021-09-27T09:00:25.168357Z",
     "iopub.status.busy": "2021-09-27T09:00:25.167647Z",
     "iopub.status.idle": "2021-09-27T09:00:25.174873Z",
     "shell.execute_reply": "2021-09-27T09:00:25.174208Z",
     "shell.execute_reply.started": "2021-09-27T08:38:54.519622Z"
    },
    "papermill": {
     "duration": 0.052538,
     "end_time": "2021-09-27T09:00:25.175023",
     "exception": false,
     "start_time": "2021-09-27T09:00:25.122485",
     "status": "completed"
    },
    "tags": []
   },
   "outputs": [
    {
     "name": "stdout",
     "output_type": "stream",
     "text": [
      "[[ 0.63994726  0.84832379  0.14964075 ...  0.20401277  0.46849198\n",
      "   1.4259954 ]\n",
      " [-0.84488505 -1.12339636 -0.16054575 ... -0.68442195 -0.36506078\n",
      "  -0.19067191]\n",
      " [ 1.23388019  1.94372388 -0.26394125 ... -1.10325546  0.60439732\n",
      "  -0.10558415]\n",
      " ...\n",
      " [ 0.3429808   0.00330087  0.14964075 ... -0.73518964 -0.68519336\n",
      "  -0.27575966]\n",
      " [-0.84488505  0.1597866  -0.47073225 ... -0.24020459 -0.37110101\n",
      "   1.17073215]\n",
      " [-0.84488505 -0.8730192   0.04624525 ... -0.20212881 -0.47378505\n",
      "  -0.87137393]]\n"
     ]
    }
   ],
   "source": [
    "Scaler = StandardScaler()\n",
    "StandardizedData = Scaler.fit_transform(X)\n",
    "print(StandardizedData)"
   ]
  },
  {
   "cell_type": "markdown",
   "id": "3909786a",
   "metadata": {
    "papermill": {
     "duration": 0.038516,
     "end_time": "2021-09-27T09:00:25.253198",
     "exception": false,
     "start_time": "2021-09-27T09:00:25.214682",
     "status": "completed"
    },
    "tags": []
   },
   "source": [
    "**Now all our columns are in same range**"
   ]
  },
  {
   "cell_type": "code",
   "execution_count": 13,
   "id": "53f16544",
   "metadata": {
    "execution": {
     "iopub.execute_input": "2021-09-27T09:00:25.335729Z",
     "iopub.status.busy": "2021-09-27T09:00:25.334865Z",
     "iopub.status.idle": "2021-09-27T09:00:25.337280Z",
     "shell.execute_reply": "2021-09-27T09:00:25.337754Z",
     "shell.execute_reply.started": "2021-09-27T08:38:54.537603Z"
    },
    "papermill": {
     "duration": 0.046043,
     "end_time": "2021-09-27T09:00:25.337919",
     "exception": false,
     "start_time": "2021-09-27T09:00:25.291876",
     "status": "completed"
    },
    "tags": []
   },
   "outputs": [],
   "source": [
    "X = StandardizedData"
   ]
  },
  {
   "cell_type": "code",
   "execution_count": 14,
   "id": "016432d9",
   "metadata": {
    "execution": {
     "iopub.execute_input": "2021-09-27T09:00:25.423313Z",
     "iopub.status.busy": "2021-09-27T09:00:25.422607Z",
     "iopub.status.idle": "2021-09-27T09:00:25.425684Z",
     "shell.execute_reply": "2021-09-27T09:00:25.425178Z",
     "shell.execute_reply.started": "2021-09-27T08:38:54.543917Z"
    },
    "papermill": {
     "duration": 0.049001,
     "end_time": "2021-09-27T09:00:25.425823",
     "exception": false,
     "start_time": "2021-09-27T09:00:25.376822",
     "status": "completed"
    },
    "tags": []
   },
   "outputs": [],
   "source": [
    "# Then we split the data into training and testing data\n",
    "X_train, X_test, y_train, y_test = train_test_split(X,y,test_size = 0.2, random_state = 2) # 80% data will be used for training the model and rest 20% for testing."
   ]
  },
  {
   "cell_type": "code",
   "execution_count": 15,
   "id": "8d244c90",
   "metadata": {
    "execution": {
     "iopub.execute_input": "2021-09-27T09:00:25.508923Z",
     "iopub.status.busy": "2021-09-27T09:00:25.508062Z",
     "iopub.status.idle": "2021-09-27T09:00:25.511839Z",
     "shell.execute_reply": "2021-09-27T09:00:25.511356Z",
     "shell.execute_reply.started": "2021-09-27T08:38:54.558135Z"
    },
    "papermill": {
     "duration": 0.047265,
     "end_time": "2021-09-27T09:00:25.511978",
     "exception": false,
     "start_time": "2021-09-27T09:00:25.464713",
     "status": "completed"
    },
    "tags": []
   },
   "outputs": [
    {
     "data": {
      "text/plain": [
       "(768, 8)"
      ]
     },
     "execution_count": 15,
     "metadata": {},
     "output_type": "execute_result"
    }
   ],
   "source": [
    "X.shape"
   ]
  },
  {
   "cell_type": "code",
   "execution_count": 16,
   "id": "0711bc4e",
   "metadata": {
    "execution": {
     "iopub.execute_input": "2021-09-27T09:00:25.595589Z",
     "iopub.status.busy": "2021-09-27T09:00:25.594886Z",
     "iopub.status.idle": "2021-09-27T09:00:25.597437Z",
     "shell.execute_reply": "2021-09-27T09:00:25.597919Z",
     "shell.execute_reply.started": "2021-09-27T08:38:54.567918Z"
    },
    "papermill": {
     "duration": 0.046823,
     "end_time": "2021-09-27T09:00:25.598090",
     "exception": false,
     "start_time": "2021-09-27T09:00:25.551267",
     "status": "completed"
    },
    "tags": []
   },
   "outputs": [
    {
     "data": {
      "text/plain": [
       "(614, 8)"
      ]
     },
     "execution_count": 16,
     "metadata": {},
     "output_type": "execute_result"
    }
   ],
   "source": [
    "X_train.shape"
   ]
  },
  {
   "cell_type": "markdown",
   "id": "5b3b5146",
   "metadata": {
    "papermill": {
     "duration": 0.038884,
     "end_time": "2021-09-27T09:00:25.676542",
     "exception": false,
     "start_time": "2021-09-27T09:00:25.637658",
     "status": "completed"
    },
    "tags": []
   },
   "source": [
    "**As we can see, 614 rows are used for testing out of 768 which is about 79.9% of the data.**"
   ]
  },
  {
   "cell_type": "markdown",
   "id": "1b4b5414",
   "metadata": {
    "papermill": {
     "duration": 0.038886,
     "end_time": "2021-09-27T09:00:25.754588",
     "exception": false,
     "start_time": "2021-09-27T09:00:25.715702",
     "status": "completed"
    },
    "tags": []
   },
   "source": [
    "# Classification"
   ]
  },
  {
   "cell_type": "markdown",
   "id": "7ddd8feb",
   "metadata": {
    "papermill": {
     "duration": 0.038961,
     "end_time": "2021-09-27T09:00:25.832896",
     "exception": false,
     "start_time": "2021-09-27T09:00:25.793935",
     "status": "completed"
    },
    "tags": []
   },
   "source": [
    "**We're going to use Support Vector Machine for our classifier. It uses a technique called the kernel trick to transform the data and then based on these transformations it finds an optimal boundary between the possible outputs.**"
   ]
  },
  {
   "cell_type": "code",
   "execution_count": 17,
   "id": "58b9b8eb",
   "metadata": {
    "execution": {
     "iopub.execute_input": "2021-09-27T09:00:25.914939Z",
     "iopub.status.busy": "2021-09-27T09:00:25.914280Z",
     "iopub.status.idle": "2021-09-27T09:00:25.918827Z",
     "shell.execute_reply": "2021-09-27T09:00:25.918272Z",
     "shell.execute_reply.started": "2021-09-27T08:38:54.580531Z"
    },
    "papermill": {
     "duration": 0.046607,
     "end_time": "2021-09-27T09:00:25.918968",
     "exception": false,
     "start_time": "2021-09-27T09:00:25.872361",
     "status": "completed"
    },
    "tags": []
   },
   "outputs": [],
   "source": [
    "model = svm.SVC(kernel='linear')"
   ]
  },
  {
   "cell_type": "code",
   "execution_count": 18,
   "id": "4c23674b",
   "metadata": {
    "execution": {
     "iopub.execute_input": "2021-09-27T09:00:26.004740Z",
     "iopub.status.busy": "2021-09-27T09:00:26.004059Z",
     "iopub.status.idle": "2021-09-27T09:00:26.019661Z",
     "shell.execute_reply": "2021-09-27T09:00:26.020185Z",
     "shell.execute_reply.started": "2021-09-27T08:38:54.591620Z"
    },
    "papermill": {
     "duration": 0.059777,
     "end_time": "2021-09-27T09:00:26.020385",
     "exception": false,
     "start_time": "2021-09-27T09:00:25.960608",
     "status": "completed"
    },
    "tags": []
   },
   "outputs": [
    {
     "data": {
      "text/plain": [
       "SVC(kernel='linear')"
      ]
     },
     "execution_count": 18,
     "metadata": {},
     "output_type": "execute_result"
    }
   ],
   "source": [
    "# Now we need to train the model\n",
    "model.fit(X_train,y_train) # fitting means training"
   ]
  },
  {
   "cell_type": "markdown",
   "id": "7e0a22ae",
   "metadata": {
    "papermill": {
     "duration": 0.040023,
     "end_time": "2021-09-27T09:00:26.100582",
     "exception": false,
     "start_time": "2021-09-27T09:00:26.060559",
     "status": "completed"
    },
    "tags": []
   },
   "source": [
    "# Prediction and Evaluation of the Model"
   ]
  },
  {
   "cell_type": "markdown",
   "id": "0ff767ab",
   "metadata": {
    "papermill": {
     "duration": 0.03973,
     "end_time": "2021-09-27T09:00:26.181132",
     "exception": false,
     "start_time": "2021-09-27T09:00:26.141402",
     "status": "completed"
    },
    "tags": []
   },
   "source": [
    "**First, we need to use the model to predict diabetes/not from the training data. Then, we check our model's accuracy using accuracy score (for classification).**"
   ]
  },
  {
   "cell_type": "code",
   "execution_count": 19,
   "id": "d0b68680",
   "metadata": {
    "execution": {
     "iopub.execute_input": "2021-09-27T09:00:26.263904Z",
     "iopub.status.busy": "2021-09-27T09:00:26.263300Z",
     "iopub.status.idle": "2021-09-27T09:00:26.273285Z",
     "shell.execute_reply": "2021-09-27T09:00:26.273847Z",
     "shell.execute_reply.started": "2021-09-27T08:38:54.616985Z"
    },
    "papermill": {
     "duration": 0.053133,
     "end_time": "2021-09-27T09:00:26.274010",
     "exception": false,
     "start_time": "2021-09-27T09:00:26.220877",
     "status": "completed"
    },
    "tags": []
   },
   "outputs": [
    {
     "data": {
      "text/plain": [
       "array([0, 0, 0, 1, 0, 1, 0, 0, 0, 0, 0, 0, 0, 1, 0, 0, 0, 1, 0, 0, 0, 0,\n",
       "       1, 0, 0, 0, 0, 0, 1, 0, 0, 0, 0, 0, 0, 1, 0, 0, 1, 1, 0, 0, 0, 0,\n",
       "       0, 0, 0, 1, 0, 0, 1, 0, 1, 0, 0, 1, 1, 0, 1, 0, 0, 0, 0, 0, 1, 1,\n",
       "       1, 0, 0, 0, 0, 1, 0, 0, 1, 1, 0, 0, 0, 0, 1, 1, 1, 0, 0, 1, 0, 0,\n",
       "       1, 0, 0, 0, 0, 0, 0, 1, 0, 0, 1, 0, 1, 0, 0, 0, 0, 0, 0, 0, 1, 0,\n",
       "       0, 0, 0, 0, 0, 0, 1, 0, 0, 0, 0, 0, 1, 0, 0, 1, 0, 1, 1, 0, 0, 0,\n",
       "       0, 1, 0, 0, 1, 0, 0, 1, 1, 0, 1, 0, 0, 1, 0, 1, 1, 0, 0, 0, 0, 0,\n",
       "       0, 1, 0, 0, 1, 1, 0, 0, 0, 0, 1, 0, 1, 0, 1, 0, 0, 0, 1, 0, 0, 0,\n",
       "       0, 0, 0, 1, 0, 0, 1, 0, 0, 0, 0, 1, 0, 0, 0, 0, 0, 0, 1, 0, 0, 0,\n",
       "       0, 0, 0, 0, 0, 0, 0, 1, 0, 0, 0, 0, 0, 0, 1, 1, 1, 0, 0, 1, 1, 0,\n",
       "       0, 0, 0, 1, 0, 0, 0, 1, 0, 0, 0, 0, 1, 1, 1, 0, 0, 1, 1, 1, 0, 0,\n",
       "       0, 1, 1, 0, 0, 0, 0, 0, 0, 0, 1, 0, 0, 1, 1, 0, 0, 1, 0, 1, 0, 0,\n",
       "       1, 0, 0, 1, 1, 1, 1, 1, 0, 0, 0, 0, 1, 0, 0, 0, 0, 0, 1, 1, 1, 0,\n",
       "       1, 0, 0, 1, 1, 0, 0, 0, 0, 0, 0, 0, 0, 0, 0, 1, 0, 0, 0, 0, 0, 0,\n",
       "       1, 0, 0, 0, 0, 0, 0, 1, 1, 0, 0, 0, 0, 0, 0, 0, 1, 0, 0, 1, 0, 0,\n",
       "       0, 1, 0, 0, 1, 0, 1, 0, 0, 0, 1, 0, 0, 0, 0, 1, 1, 1, 0, 0, 0, 0,\n",
       "       0, 0, 0, 0, 0, 0, 0, 0, 0, 0, 0, 0, 0, 1, 0, 0, 0, 0, 0, 1, 1, 1,\n",
       "       1, 1, 1, 1, 0, 0, 1, 0, 0, 0, 0, 1, 0, 0, 0, 0, 0, 0, 0, 0, 0, 0,\n",
       "       0, 0, 0, 1, 0, 0, 0, 0, 0, 0, 1, 0, 0, 1, 1, 0, 0, 1, 0, 0, 0, 1,\n",
       "       0, 1, 0, 1, 0, 0, 0, 1, 0, 1, 0, 0, 1, 0, 1, 0, 0, 0, 0, 0, 0, 0,\n",
       "       1, 0, 1, 0, 1, 1, 1, 0, 0, 0, 1, 1, 0, 0, 1, 0, 0, 0, 1, 0, 0, 0,\n",
       "       0, 0, 1, 0, 0, 0, 0, 0, 0, 0, 1, 0, 1, 0, 0, 1, 0, 0, 0, 1, 0, 0,\n",
       "       0, 1, 0, 0, 1, 0, 0, 1, 0, 0, 0, 0, 1, 0, 0, 1, 0, 0, 1, 1, 0, 0,\n",
       "       0, 1, 0, 0, 0, 1, 1, 0, 1, 0, 0, 1, 0, 1, 1, 0, 0, 0, 0, 0, 0, 0,\n",
       "       0, 0, 1, 1, 0, 0, 0, 0, 1, 1, 0, 1, 0, 0, 0, 0, 0, 1, 1, 0, 0, 0,\n",
       "       0, 0, 0, 0, 0, 0, 1, 0, 0, 1, 0, 1, 0, 0, 1, 1, 1, 1, 1, 0, 1, 0,\n",
       "       0, 0, 1, 0, 1, 0, 0, 0, 1, 1, 0, 1, 0, 0, 1, 0, 1, 0, 0, 1, 0, 0,\n",
       "       0, 1, 0, 0, 0, 0, 0, 0, 0, 0, 0, 1, 0, 0, 0, 0, 0, 0, 0, 0])"
      ]
     },
     "execution_count": 19,
     "metadata": {},
     "output_type": "execute_result"
    }
   ],
   "source": [
    "train_pred = model.predict(X_train)\n",
    "train_pred"
   ]
  },
  {
   "cell_type": "code",
   "execution_count": 20,
   "id": "81d672e2",
   "metadata": {
    "execution": {
     "iopub.execute_input": "2021-09-27T09:00:26.359051Z",
     "iopub.status.busy": "2021-09-27T09:00:26.358428Z",
     "iopub.status.idle": "2021-09-27T09:00:26.364809Z",
     "shell.execute_reply": "2021-09-27T09:00:26.364271Z",
     "shell.execute_reply.started": "2021-09-27T08:39:32.428578Z"
    },
    "papermill": {
     "duration": 0.050619,
     "end_time": "2021-09-27T09:00:26.364948",
     "exception": false,
     "start_time": "2021-09-27T09:00:26.314329",
     "status": "completed"
    },
    "tags": []
   },
   "outputs": [
    {
     "name": "stdout",
     "output_type": "stream",
     "text": [
      "Accuracy Score: 0.7719869706840391\n"
     ]
    }
   ],
   "source": [
    "# Now let's check accuracy score on training data\n",
    "Training_score = accuracy_score(train_pred,y_train) #(Basically comparing the original y_train and predictions and seeing difference/error)\n",
    "print(\"Accuracy Score:\",Training_score)"
   ]
  },
  {
   "cell_type": "markdown",
   "id": "2255b7fb",
   "metadata": {
    "papermill": {
     "duration": 0.040761,
     "end_time": "2021-09-27T09:00:26.447011",
     "exception": false,
     "start_time": "2021-09-27T09:00:26.406250",
     "status": "completed"
    },
    "tags": []
   },
   "source": [
    "**This means our model is 77% accurate which is good enough.**"
   ]
  },
  {
   "cell_type": "markdown",
   "id": "6408eb8e",
   "metadata": {
    "papermill": {
     "duration": 0.04049,
     "end_time": "2021-09-27T09:00:26.528395",
     "exception": false,
     "start_time": "2021-09-27T09:00:26.487905",
     "status": "completed"
    },
    "tags": []
   },
   "source": [
    "**But keep in mind that we used training data to check accuracy. We need to check using test data for a better understanding.**"
   ]
  },
  {
   "cell_type": "code",
   "execution_count": 21,
   "id": "81efbd38",
   "metadata": {
    "execution": {
     "iopub.execute_input": "2021-09-27T09:00:26.614197Z",
     "iopub.status.busy": "2021-09-27T09:00:26.613494Z",
     "iopub.status.idle": "2021-09-27T09:00:26.620097Z",
     "shell.execute_reply": "2021-09-27T09:00:26.620639Z",
     "shell.execute_reply.started": "2021-09-27T08:40:59.250436Z"
    },
    "papermill": {
     "duration": 0.051167,
     "end_time": "2021-09-27T09:00:26.620816",
     "exception": false,
     "start_time": "2021-09-27T09:00:26.569649",
     "status": "completed"
    },
    "tags": []
   },
   "outputs": [
    {
     "data": {
      "text/plain": [
       "array([0, 0, 0, 0, 1, 0, 0, 1, 0, 1, 0, 0, 1, 0, 0, 1, 1, 0, 0, 1, 1, 1,\n",
       "       0, 0, 0, 0, 1, 0, 0, 0, 0, 0, 0, 0, 0, 1, 0, 1, 0, 0, 0, 0, 0, 0,\n",
       "       0, 0, 0, 0, 0, 0, 1, 0, 0, 1, 0, 0, 1, 0, 0, 0, 0, 1, 1, 1, 0, 0,\n",
       "       1, 0, 0, 0, 0, 0, 0, 0, 0, 1, 0, 0, 0, 0, 0, 0, 0, 0, 1, 0, 0, 0,\n",
       "       0, 0, 0, 0, 0, 0, 0, 1, 0, 1, 1, 0, 1, 1, 0, 0, 0, 0, 1, 0, 0, 0,\n",
       "       0, 0, 0, 0, 0, 1, 0, 0, 0, 0, 0, 0, 0, 0, 0, 1, 0, 0, 0, 0, 1, 0,\n",
       "       0, 0, 1, 1, 0, 0, 0, 1, 0, 1, 0, 0, 0, 0, 0, 0, 0, 0, 0, 0, 1, 0])"
      ]
     },
     "execution_count": 21,
     "metadata": {},
     "output_type": "execute_result"
    }
   ],
   "source": [
    "test_pred = model.predict(X_test)\n",
    "test_pred"
   ]
  },
  {
   "cell_type": "code",
   "execution_count": 22,
   "id": "084df66c",
   "metadata": {
    "execution": {
     "iopub.execute_input": "2021-09-27T09:00:26.708921Z",
     "iopub.status.busy": "2021-09-27T09:00:26.708240Z",
     "iopub.status.idle": "2021-09-27T09:00:26.711867Z",
     "shell.execute_reply": "2021-09-27T09:00:26.712660Z",
     "shell.execute_reply.started": "2021-09-27T08:41:54.677467Z"
    },
    "papermill": {
     "duration": 0.050746,
     "end_time": "2021-09-27T09:00:26.712891",
     "exception": false,
     "start_time": "2021-09-27T09:00:26.662145",
     "status": "completed"
    },
    "tags": []
   },
   "outputs": [
    {
     "name": "stdout",
     "output_type": "stream",
     "text": [
      "Accuracy Score: 0.7662337662337663\n"
     ]
    }
   ],
   "source": [
    "# Accuracy Score\n",
    "Test_score = accuracy_score(test_pred,y_test) \n",
    "print(\"Accuracy Score:\",Test_score)"
   ]
  },
  {
   "cell_type": "markdown",
   "id": "d086acbb",
   "metadata": {
    "papermill": {
     "duration": 0.041531,
     "end_time": "2021-09-27T09:00:26.797251",
     "exception": false,
     "start_time": "2021-09-27T09:00:26.755720",
     "status": "completed"
    },
    "tags": []
   },
   "source": [
    "**Our model was 76.6% accurate with test data so we can say this is a pretty accurate model.**"
   ]
  },
  {
   "cell_type": "markdown",
   "id": "1e39ddd2",
   "metadata": {
    "papermill": {
     "duration": 0.04117,
     "end_time": "2021-09-27T09:00:26.879796",
     "exception": false,
     "start_time": "2021-09-27T09:00:26.838626",
     "status": "completed"
    },
    "tags": []
   },
   "source": [
    "# Conclusion"
   ]
  },
  {
   "cell_type": "markdown",
   "id": "cbd76163",
   "metadata": {
    "papermill": {
     "duration": 0.042268,
     "end_time": "2021-09-27T09:00:26.963878",
     "exception": false,
     "start_time": "2021-09-27T09:00:26.921610",
     "status": "completed"
    },
    "tags": []
   },
   "source": [
    "So basically the workflow is like this: Import libraries and dataset -> check for missing values -> perform necessary imputation -> Exploratory Data Analysis -> split data -> Data Standardization -> train model -> check its accuracy -> improve model or try other ones."
   ]
  },
  {
   "cell_type": "markdown",
   "id": "bbc4b4a2",
   "metadata": {
    "papermill": {
     "duration": 0.041193,
     "end_time": "2021-09-27T09:00:27.046753",
     "exception": false,
     "start_time": "2021-09-27T09:00:27.005560",
     "status": "completed"
    },
    "tags": []
   },
   "source": [
    "**To get better accuracy, try different models or use more training data.**"
   ]
  }
 ],
 "metadata": {
  "kernelspec": {
   "display_name": "Python 3",
   "language": "python",
   "name": "python3"
  },
  "language_info": {
   "codemirror_mode": {
    "name": "ipython",
    "version": 3
   },
   "file_extension": ".py",
   "mimetype": "text/x-python",
   "name": "python",
   "nbconvert_exporter": "python",
   "pygments_lexer": "ipython3",
   "version": "3.7.10"
  },
  "papermill": {
   "default_parameters": {},
   "duration": 25.723179,
   "end_time": "2021-09-27T09:00:27.799511",
   "environment_variables": {},
   "exception": null,
   "input_path": "__notebook__.ipynb",
   "output_path": "__notebook__.ipynb",
   "parameters": {},
   "start_time": "2021-09-27T09:00:02.076332",
   "version": "2.3.3"
  }
 },
 "nbformat": 4,
 "nbformat_minor": 5
}
